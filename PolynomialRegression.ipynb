{
 "cells": [
  {
   "cell_type": "code",
   "execution_count": 1,
   "id": "b92e65ec",
   "metadata": {},
   "outputs": [],
   "source": [
    "# Polynomial Regression"
   ]
  },
  {
   "cell_type": "code",
   "execution_count": 2,
   "id": "1a93e221",
   "metadata": {},
   "outputs": [],
   "source": [
    "# Import relevant libraries\n",
    "import numpy as np\n",
    "import pandas as pd\n",
    "import seaborn as sns\n",
    "import matplotlib.pyplot as plt\n",
    "from sklearn.model_selection import train_test_split\n",
    "from sklearn.linear_model import LinearRegression\n",
    "from sklearn.metrics import mean_squared_error, r2_score\n",
    "from sklearn.preprocessing import PolynomialFeatures,StandardScaler"
   ]
  },
  {
   "cell_type": "code",
   "execution_count": 3,
   "id": "28de3811",
   "metadata": {},
   "outputs": [],
   "source": [
    "#setting matplotlib parameters for better visualization of graphs\n",
    "params = {'legend.fontsize': 'x-large',\n",
    "          'figure.figsize': (15, 5),\n",
    "         'axes.labelsize': 'x-large',\n",
    "         'axes.titlesize':'x-large',\n",
    "         'xtick.labelsize':'x-large',\n",
    "         'ytick.labelsize':'x-large',\n",
    "         'xtick.color':'white',\n",
    "         'ytick.color':'white'\n",
    "         }\n",
    "\n",
    "plt.rcParams.update(params)\n",
    "%matplotlib inline"
   ]
  },
  {
   "cell_type": "code",
   "execution_count": 4,
   "id": "e82fa192",
   "metadata": {},
   "outputs": [],
   "source": [
    "# Generate data using numpy\n",
    "np.random.seed(0)\n",
    "x = 2 - 3 * np.random.normal(0, 1, 20)\n",
    "y = x - 2 * (x ** 2) + 0.5 * (x ** 3) + np.random.normal(-3, 3, 20)"
   ]
  },
  {
   "cell_type": "raw",
   "id": "bf3ca7a7",
   "metadata": {},
   "source": [
    "Note: this notebook is made in dark mode, if you use normal screen settings, you may remove color attribute from below code"
   ]
  },
  {
   "cell_type": "code",
   "execution_count": 5,
   "id": "8d3ec4a0",
   "metadata": {},
   "outputs": [
    {
     "data": {
      "image/png": "[encoded data removed]",
      "text/plain": [
       "<Figure size 432x288 with 1 Axes>"
      ]
     },
     "metadata": {
      "needs_background": "dark"
     },
     "output_type": "display_data"
    }
   ],
   "source": [
    "plt.scatter(x,y, s=10)\n",
    "plt.grid()\n",
    "plt.xticks(color='white')\n",
    "plt.yticks(color='white')\n",
    "plt.xlabel('X',color='white')\n",
    "plt.ylabel('Y',color='white')\n",
    "plt.show()"
   ]
  },
  {
   "cell_type": "code",
   "execution_count": 6,
   "id": "e096e0d6",
   "metadata": {
    "scrolled": true
   },
   "outputs": [
    {
     "name": "stdout",
     "output_type": "stream",
     "text": [
      "           X           Y\n",
      "0  -3.292157  -53.468412\n",
      "1   0.799528   -1.262560\n",
      "2  -0.936214   -3.506193\n",
      "3  -4.722680 -107.223200\n",
      "4  -3.602674  -49.131950\n",
      "5   4.931834    8.901224\n",
      "6  -0.850265   -5.466242\n",
      "7   2.454072   -5.762632\n",
      "8   2.309657   -0.600586\n",
      "9   0.768204    1.222678\n",
      "10  1.567869   -3.956637\n",
      "11 -2.362821  -21.989895\n",
      "12 -0.283113   -6.118123\n",
      "13  1.634975  -10.468440\n",
      "14  0.668410   -4.119557\n",
      "15  0.998977   -3.029419\n",
      "16 -2.482237  -21.761523\n",
      "17  2.615475   -1.512952\n",
      "18  1.060797   -4.754912\n",
      "19  4.562287    6.507233\n"
     ]
    }
   ],
   "source": [
    "df=pd.DataFrame(list(zip(x,y)),columns=['X','Y'])\n",
    "print(df)"
   ]
  },
  {
   "cell_type": "code",
   "execution_count": 7,
   "id": "e3ed8749",
   "metadata": {},
   "outputs": [
    {
     "name": "stdout",
     "output_type": "stream",
     "text": [
      "<class 'pandas.core.frame.DataFrame'>\n",
      "RangeIndex: 20 entries, 0 to 19\n",
      "Data columns (total 2 columns):\n",
      " #   Column  Non-Null Count  Dtype  \n",
      "---  ------  --------------  -----  \n",
      " 0   X       20 non-null     float64\n",
      " 1   Y       20 non-null     float64\n",
      "dtypes: float64(2)\n",
      "memory usage: 448.0 bytes\n"
     ]
    }
   ],
   "source": [
    "# general summary of the dataset\n",
    "df.info()"
   ]
  },
  {
   "cell_type": "code",
   "execution_count": 8,
   "id": "4a1878f8",
   "metadata": {},
   "outputs": [
    {
     "data": {
      "text/html": [
       "<div>\n",
       "<style scoped>\n",
       "    .dataframe tbody tr th:only-of-type {\n",
       "        vertical-align: middle;\n",
       "    }\n",
       "\n",
       "    .dataframe tbody tr th {\n",
       "        vertical-align: top;\n",
       "    }\n",
       "\n",
       "    .dataframe thead th {\n",
       "        text-align: right;\n",
       "    }\n",
       "</style>\n",
       "<table border=\"1\" class=\"dataframe\">\n",
       "  <thead>\n",
       "    <tr style=\"text-align: right;\">\n",
       "      <th></th>\n",
       "      <th>X</th>\n",
       "      <th>Y</th>\n",
       "    </tr>\n",
       "  </thead>\n",
       "  <tbody>\n",
       "    <tr>\n",
       "      <th>count</th>\n",
       "      <td>20.000000</td>\n",
       "      <td>20.000000</td>\n",
       "    </tr>\n",
       "    <tr>\n",
       "      <th>mean</th>\n",
       "      <td>0.291996</td>\n",
       "      <td>-14.375105</td>\n",
       "    </tr>\n",
       "    <tr>\n",
       "      <th>std</th>\n",
       "      <td>2.616807</td>\n",
       "      <td>27.152598</td>\n",
       "    </tr>\n",
       "    <tr>\n",
       "      <th>min</th>\n",
       "      <td>-4.722680</td>\n",
       "      <td>-107.223200</td>\n",
       "    </tr>\n",
       "    <tr>\n",
       "      <th>25%</th>\n",
       "      <td>-1.292866</td>\n",
       "      <td>-13.291710</td>\n",
       "    </tr>\n",
       "    <tr>\n",
       "      <th>50%</th>\n",
       "      <td>0.783866</td>\n",
       "      <td>-4.437234</td>\n",
       "    </tr>\n",
       "    <tr>\n",
       "      <th>75%</th>\n",
       "      <td>1.803645</td>\n",
       "      <td>-1.450354</td>\n",
       "    </tr>\n",
       "    <tr>\n",
       "      <th>max</th>\n",
       "      <td>4.931834</td>\n",
       "      <td>8.901224</td>\n",
       "    </tr>\n",
       "  </tbody>\n",
       "</table>\n",
       "</div>"
      ],
      "text/plain": [
       "               X           Y\n",
       "count  20.000000   20.000000\n",
       "mean    0.291996  -14.375105\n",
       "std     2.616807   27.152598\n",
       "min    -4.722680 -107.223200\n",
       "25%    -1.292866  -13.291710\n",
       "50%     0.783866   -4.437234\n",
       "75%     1.803645   -1.450354\n",
       "max     4.931834    8.901224"
      ]
     },
     "execution_count": 8,
     "metadata": {},
     "output_type": "execute_result"
    }
   ],
   "source": [
    "# detailed summary of the dataset\n",
    "df.describe()"
   ]
  },
  {
   "cell_type": "code",
   "execution_count": 9,
   "id": "38d411d7",
   "metadata": {
    "scrolled": true
   },
   "outputs": [
    {
     "data": {
      "text/plain": [
       "<seaborn.axisgrid.PairGrid at 0x21bc50eec10>"
      ]
     },
     "execution_count": 9,
     "metadata": {},
     "output_type": "execute_result"
    },
    {
     "data": {
      "image/png": "[encoded data removed]",
      "text/plain": [
       "<Figure size 360x360 with 6 Axes>"
      ]
     },
     "metadata": {},
     "output_type": "display_data"
    }
   ],
   "source": [
    "# visualization of data\n",
    "sns.set_style(\"whitegrid\")\n",
    "sns.pairplot(df)"
   ]
  },
  {
   "cell_type": "code",
   "execution_count": null,
   "id": "f9965b9c",
   "metadata": {},
   "outputs": [],
   "source": []
  },
  {
   "cell_type": "raw",
   "id": "8214ea26",
   "metadata": {},
   "source": [
    "Let's apply Simple Linear Regression before Polynomial Regression to observe the difference in performance"
   ]
  },
  {
   "cell_type": "code",
   "execution_count": 10,
   "id": "bc1116de",
   "metadata": {},
   "outputs": [],
   "source": [
    "# Train test split\n",
    "X=df.iloc[:,0]\n",
    "y=df.iloc[:,-1]"
   ]
  },
  {
   "cell_type": "code",
   "execution_count": 11,
   "id": "fc7c08b4",
   "metadata": {},
   "outputs": [],
   "source": [
    "X_train,X_test,y_train,y_test = train_test_split(X,y,test_size=0.2,random_state=2)"
   ]
  },
  {
   "cell_type": "code",
   "execution_count": 12,
   "id": "cee06287",
   "metadata": {
    "scrolled": true
   },
   "outputs": [
    {
     "data": {
      "text/plain": [
       "LinearRegression()"
      ]
     },
     "execution_count": 12,
     "metadata": {},
     "output_type": "execute_result"
    }
   ],
   "source": [
    "# Applying linear regression\n",
    "lr = LinearRegression()\n",
    "lr.fit(X_train.to_numpy().reshape(-1, 1),y_train)"
   ]
  },
  {
   "cell_type": "code",
   "execution_count": 13,
   "id": "b848fca2",
   "metadata": {},
   "outputs": [],
   "source": [
    "y_pred = lr.predict(X_test.to_numpy().reshape(-1, 1))"
   ]
  },
  {
   "cell_type": "code",
   "execution_count": 14,
   "id": "faecc928",
   "metadata": {},
   "outputs": [
    {
     "name": "stdout",
     "output_type": "stream",
     "text": [
      "RMSE 8.756326242350804\n",
      "r2 score 0.8549096697820713\n"
     ]
    }
   ],
   "source": [
    "# regression metrics\n",
    "print(\"RMSE\",np.sqrt(mean_squared_error(y_test,y_pred)))\n",
    "print(\"r2 score\",r2_score(y_test,y_pred))"
   ]
  },
  {
   "cell_type": "code",
   "execution_count": 15,
   "id": "75664fbd",
   "metadata": {},
   "outputs": [
    {
     "name": "stdout",
     "output_type": "stream",
     "text": [
      "   predicted_values  actual_values\n",
      "0        -19.040766      -6.118123\n",
      "1        -45.341241     -49.131950\n",
      "2         -8.393131      -4.754912\n",
      "3        -42.881053     -53.468412\n"
     ]
    }
   ],
   "source": [
    "# dataframe to compare the difference between predicted values  and actual values\n",
    "df_result=pd.DataFrame(list(zip(y_pred,y_test)),columns=['predicted_values','actual_values'])\n",
    "print(df_result)"
   ]
  },
  {
   "cell_type": "code",
   "execution_count": 17,
   "id": "88942e56",
   "metadata": {
    "scrolled": true
   },
   "outputs": [
    {
     "data": {
      "image/png": "[encoded data removed]",
      "text/plain": [
       "<Figure size 432x288 with 1 Axes>"
      ]
     },
     "metadata": {},
     "output_type": "display_data"
    }
   ],
   "source": [
    "# Visualization of result\n",
    "plt.plot(X_train,lr.predict(X_train.to_numpy().reshape(-1, 1)) ,color='r')\n",
    "plt.plot(X, y, \"b.\")\n",
    "plt.xlabel(\"X\",color='black')\n",
    "plt.ylabel(\"y\",color='black')\n",
    "plt.show()"
   ]
  },
  {
   "cell_type": "code",
   "execution_count": null,
   "id": "3d64f892",
   "metadata": {},
   "outputs": [],
   "source": []
  },
  {
   "cell_type": "raw",
   "id": "9e85e157",
   "metadata": {},
   "source": [
    "Now, let's apply Polynomial Regression on the same dataset"
   ]
  },
  {
   "cell_type": "code",
   "execution_count": 18,
   "id": "9e3a2f26",
   "metadata": {},
   "outputs": [],
   "source": [
    "# Train test split\n",
    "X=df.iloc[:,0]\n",
    "y=df.iloc[:,-1]"
   ]
  },
  {
   "cell_type": "code",
   "execution_count": 19,
   "id": "ac58411a",
   "metadata": {
    "scrolled": true
   },
   "outputs": [],
   "source": [
    "# Applying Polynomial Regression\n",
    "poly = PolynomialFeatures(degree=3,include_bias=True)"
   ]
  },
  {
   "cell_type": "code",
   "execution_count": 20,
   "id": "b06cd828",
   "metadata": {},
   "outputs": [],
   "source": [
    "# scaling the data b/w -1 and 1 using StandardScaler\n",
    "std_scaler = StandardScaler()\n",
    "X=std_scaler.fit_transform(X.to_numpy().reshape(-1, 1))\n"
   ]
  },
  {
   "cell_type": "code",
   "execution_count": 21,
   "id": "a4c2a33a",
   "metadata": {},
   "outputs": [],
   "source": [
    "y=std_scaler.fit_transform(y.to_numpy().reshape(-1, 1))\n"
   ]
  },
  {
   "cell_type": "code",
   "execution_count": 23,
   "id": "be76b01e",
   "metadata": {},
   "outputs": [],
   "source": [
    "# Train-test-split\n",
    "X_train,X_test,y_train,y_test = train_test_split(X,y,test_size=0.2,random_state=2)"
   ]
  },
  {
   "cell_type": "code",
   "execution_count": 24,
   "id": "76828c1c",
   "metadata": {},
   "outputs": [],
   "source": [
    "# fitting the data\n",
    "X_train_trans = poly.fit_transform(X_train)\n",
    "X_test_trans = poly.transform(X_test)"
   ]
  },
  {
   "cell_type": "code",
   "execution_count": 25,
   "id": "9e89d43c",
   "metadata": {
    "scrolled": true
   },
   "outputs": [
    {
     "name": "stdout",
     "output_type": "stream",
     "text": [
      "[0.18670819]\n",
      "[1.         0.18670819 0.03485995 0.00650864]\n"
     ]
    }
   ],
   "source": [
    "print(X_train[0])\n",
    "print(X_train_trans[0])"
   ]
  },
  {
   "cell_type": "code",
   "execution_count": 26,
   "id": "e3c22c65",
   "metadata": {},
   "outputs": [
    {
     "data": {
      "text/plain": [
       "LinearRegression()"
      ]
     },
     "execution_count": 26,
     "metadata": {},
     "output_type": "execute_result"
    }
   ],
   "source": [
    "# Linear Regression model\n",
    "lr = LinearRegression()\n",
    "lr.fit(X_train_trans,y_train)"
   ]
  },
  {
   "cell_type": "code",
   "execution_count": 27,
   "id": "061f2abe",
   "metadata": {},
   "outputs": [],
   "source": [
    "y_pred = lr.predict(X_test_trans)"
   ]
  },
  {
   "cell_type": "code",
   "execution_count": 28,
   "id": "b06c8ed3",
   "metadata": {},
   "outputs": [
    {
     "name": "stdout",
     "output_type": "stream",
     "text": [
      "RMSE 0.22066669807431186\n",
      "r2 score 0.9354621349583383\n"
     ]
    }
   ],
   "source": [
    "# regression metrics\n",
    "from sklearn.metrics import mean_absolute_error, mean_squared_error, r2_score\n",
    "print(\"RMSE\",np.sqrt(mean_squared_error(y_test,y_pred)))\n",
    "print(\"r2 score\",r2_score(y_test,y_pred))"
   ]
  },
  {
   "cell_type": "code",
   "execution_count": 30,
   "id": "6f0508e4",
   "metadata": {},
   "outputs": [
    {
     "name": "stdout",
     "output_type": "stream",
     "text": [
      "        predicted_values          actual_values\n",
      "0   [0.4791201012592823]   [0.3119953651117374]\n",
      "1   [-1.564332629492971]  [-1.3133096973361291]\n",
      "2   [0.4547761221243376]  [0.36350517435453406]\n",
      "3  [-1.1681323674900637]  [-1.4771656840568619]\n"
     ]
    }
   ],
   "source": [
    "# dataframe to compare the difference between predicted values  and actual values\n",
    "df_result=pd.DataFrame(list(zip(y_pred,y_test)),columns=['predicted_values','actual_values'])\n",
    "print(df_result)"
   ]
  },
  {
   "cell_type": "code",
   "execution_count": 31,
   "id": "04330c8f",
   "metadata": {
    "scrolled": true
   },
   "outputs": [
    {
     "name": "stderr",
     "output_type": "stream",
     "text": [
      "C:\\Users\\muska\\AppData\\Local\\Temp\\ipykernel_20384\\3897669206.py:1: UserWarning: color is redundantly defined by the 'color' keyword argument and the fmt string \"b.\" (-> color='b'). The keyword argument will take precedence.\n",
      "  plt.plot(X_train, y_train, \"b.\",label='Training points',color='green')\n",
      "C:\\Users\\muska\\AppData\\Local\\Temp\\ipykernel_20384\\3897669206.py:2: UserWarning: color is redundantly defined by the 'color' keyword argument and the fmt string \"b.\" (-> color='b'). The keyword argument will take precedence.\n",
      "  plt.plot(X_test, y_test, \"b.\",label='Test points',color='red')\n"
     ]
    },
    {
     "data": {
      "image/png": "[encoded data removed]",
      "text/plain": [
       "<Figure size 432x288 with 1 Axes>"
      ]
     },
     "metadata": {},
     "output_type": "display_data"
    }
   ],
   "source": [
    "plt.plot(X_train, y_train, \"b.\",label='Training points',color='green')\n",
    "plt.plot(X_test, y_test, \"b.\",label='Test points',color='red')\n",
    "sorted_zip = sorted(zip(X,lr.predict(poly.fit_transform(X))))\n",
    "x_poly, poly_pred = zip(*sorted_zip)\n",
    "plt.plot(x_poly,poly_pred,label='Prediction curve')\n",
    "plt.xlabel(\"X\")\n",
    "plt.ylabel(\"y\")\n",
    "plt.legend()\n",
    "plt.show()"
   ]
  },
  {
   "cell_type": "raw",
   "id": "2ea20f90",
   "metadata": {},
   "source": [
    "Result:\n",
    "Feature variable X is able to explain 93.54% variation in the target variable y using polynomial regression"
   ]
  }
 ],
 "metadata": {
  "kernelspec": {
   "display_name": "Python 3 (ipykernel)",
   "language": "python",
   "name": "python3"
  },
  "language_info": {
   "codemirror_mode": {
    "name": "ipython",
    "version": 3
   },
   "file_extension": ".py",
   "mimetype": "text/x-python",
   "name": "python",
   "nbconvert_exporter": "python",
   "pygments_lexer": "ipython3",
   "version": "3.8.8"
  }
 },
 "nbformat": 4,
 "nbformat_minor": 5
}
